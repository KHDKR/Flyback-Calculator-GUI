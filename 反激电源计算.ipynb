{
 "cells": [
  {
   "cell_type": "markdown",
   "id": "5c29226b",
   "metadata": {},
   "source": [
    "## 反激电源计算"
   ]
  },
  {
   "cell_type": "markdown",
   "id": "9d35789d",
   "metadata": {},
   "source": [
    "### 头文件"
   ]
  },
  {
   "cell_type": "code",
   "execution_count": null,
   "id": "cd5c4e39",
   "metadata": {},
   "outputs": [],
   "source": [
    "import math as m\n",
    "import numpy as np\n",
    "import matplotlib.pyplot as plt\n",
    "import numpy as np\n",
    "import control as ctrl\n",
    "from scipy.interpolate import interp1d\n",
    "from sympy import symbols, Eq, solve, I\n",
    "import json\n",
    "from pathlib import Path\n",
    "from json_pre import calculate_expression\n",
    "from json_pre import load_core_parameters"
   ]
  },
  {
   "cell_type": "markdown",
   "id": "50afa236",
   "metadata": {},
   "source": [
    "### 输入参数"
   ]
  },
  {
   "cell_type": "code",
   "execution_count": null,
   "id": "dbdfe572",
   "metadata": {},
   "outputs": [],
   "source": [
    "V_IN = 220  # 常规输入电压 (V)\n",
    "V_AC_MIN = 85  # 最小输入电压 (V)\n",
    "V_AC_MAX = 265  # 最大输入电压 (V)\n",
    "V_OUT = 24  # 输出电压 (V)\n",
    "F_SW = 100e3  # 开关频率 (Hz)\n",
    "P_OUT = 120  # 输出功率 (W)\n",
    "EFFICIENCY = 0.85  # 效率\n",
    "P_IN = P_OUT / EFFICIENCY  # 输入功率 (W)\n",
    "V_OR = 100 #反射电压 (V)\n",
    "V_DS = 1.7  # MOSFET 导通电压 (V)\n",
    "K_RP = 0.8 # 电流脉动系数\n",
    "V_F = 0.7  # 二极管正向压降 (V)\n",
    "K_O = 0.4 #反激变压器窗口填充系数\n",
    "B_W = 0.2 # 变压器的磁通量(T) 通常在0.2-0.4T之间\n",
    "B_MAX = 0.2 # 变压器的最大磁通密度 (mT)\n",
    "K_JP = 3.95 # 初级电流密度系数\n",
    "K_JS = 6 # 次级电流密度系数"
   ]
  },
  {
   "cell_type": "markdown",
   "id": "e0b5d836",
   "metadata": {},
   "source": [
    "### 单相桥式整流滤波电路"
   ]
  },
  {
   "cell_type": "code",
   "execution_count": 49,
   "id": "916664f6",
   "metadata": {},
   "outputs": [
    {
     "name": "stdout",
     "output_type": "stream",
     "text": [
      "最小整流电压 V_BULK_MIN: 120.21\n",
      "最大整流电压 V_BULK_MAX: 374.77\n",
      "最大输入电流 I_AC_MAX: 1.66\n"
     ]
    }
   ],
   "source": [
    "V_BUS = V_IN * m.sqrt(2)  # 整流后电压\n",
    "V_BULK_MIN = V_AC_MIN * m.sqrt(2)  # 最小整流电压\n",
    "V_BULK_MAX = V_AC_MAX * m.sqrt(2)  # 最大整流电压\n",
    "I_AC_MAX = P_IN / V_AC_MIN  # 最大输入电流\n",
    "\n",
    "print(\"最小整流电压 V_BULK_MIN: %.2f\" % V_BULK_MIN)\n",
    "print(\"最大整流电压 V_BULK_MAX: %.2f\" % V_BULK_MAX)\n",
    "print(\"最大输入电流 I_AC_MAX: %.2f\" % I_AC_MAX)\n"
   ]
  },
  {
   "cell_type": "markdown",
   "id": "3691c65b",
   "metadata": {},
   "source": [
    "### 输入电容"
   ]
  },
  {
   "cell_type": "code",
   "execution_count": null,
   "id": "c663572c",
   "metadata": {},
   "outputs": [
    {
     "name": "stdout",
     "output_type": "stream",
     "text": [
      "输入电容 C_in = 316.18uF\n"
     ]
    }
   ],
   "source": [
    "C_in = (2 * P_IN * (0.25 + 1 / np.pi * np.arcsin(75 / m.sqrt(2) / V_AC_MIN))) / (\n",
    "    (2 * m.pow(V_AC_MIN, 2) - m.pow(75, 2)) * 47\n",
    ")\n",
    "print(\"输入电容 C_in = %.2fuF\" % (C_in * 1e6))"
   ]
  },
  {
   "cell_type": "markdown",
   "id": "224a634c",
   "metadata": {},
   "source": [
    "### 变压器"
   ]
  },
  {
   "cell_type": "code",
   "execution_count": null,
   "id": "1ddfd2f6",
   "metadata": {},
   "outputs": [
    {
     "name": "stdout",
     "output_type": "stream",
     "text": [
      "最大占空比 D_MAX = 0.46\n",
      "220V占空比 D_NOM = 0.24\n",
      "满载输入平均电流 I_AVG = 1.17 A\n",
      "初级峰值输入电流 I_PPK = 4.28 A\n",
      "脉动电流 I_RIPPLE = 3.42 A\n",
      "初级有效电流 I_PRMS = 1.86 A\n",
      "初级励磁电感 L_P = 148.72 uH\n",
      "匝数比 N_PS = 4.05\n",
      "磁芯AP值 A_P = 0.5235 cm^4\n"
     ]
    }
   ],
   "source": [
    "# 最大占空比计算\n",
    "D_MAX = V_OR / (V_OR + V_BULK_MIN - V_DS)\n",
    "print(\"最大占空比 D_MAX = %.2f\" % D_MAX)\n",
    "\n",
    "# 220V占空比计算\n",
    "D_NOM = V_OR / (V_OR + V_BUS - V_DS)\n",
    "print(\"220V占空比 D_NOM = %.2f\" % D_NOM)\n",
    "\n",
    "# 满载输入平均电流\n",
    "I_AVG = P_IN / V_BULK_MIN\n",
    "print(\"满载输入平均电流 I_AVG = %.2f A\" % I_AVG)\n",
    "\n",
    "# 初级峰值输入电流\n",
    "I_PPK = I_AVG / ((1 - 0.5 * K_RP) * D_MAX)\n",
    "print(\"初级峰值输入电流 I_PPK = %.2f A\" % I_PPK)\n",
    "\n",
    "# 脉动电流\n",
    "I_RIPPLE = I_PPK * K_RP\n",
    "print(\"脉动电流 I_RIPPLE = %.2f A\" % I_RIPPLE)\n",
    "\n",
    "# 初级有效电流\n",
    "I_PRMS = I_PPK * m.sqrt(D_MAX * (pow(K_RP, 2) / 3 - K_RP + 1))\n",
    "print(\"初级有效电流 I_PRMS = %.2f A\" % I_PRMS)\n",
    "\n",
    "# 初级励磁电感\n",
    "L_P = (P_OUT / (I_PPK * I_PPK * K_RP * (1 - 0.5 * K_RP) * F_SW)) * (\n",
    "    (0.5 * (1 - EFFICIENCY) + EFFICIENCY) / EFFICIENCY\n",
    ")\n",
    "L_P_uH = L_P * 1e6  # 转换为微亨\n",
    "print(\"初级励磁电感 L_P = %.2f uH\" % L_P_uH)\n",
    "\n",
    "# 匝数比\n",
    "N_PS = D_MAX / (1 - D_MAX) * (V_BULK_MIN - V_DS) / (V_OUT + V_F)\n",
    "print(\"匝数比 N_PS = %.2f\" % N_PS)\n",
    "\n",
    "# 磁芯AP值\n",
    "A_P = pow((L_P * I_PPK * I_PPK * 1e2) / (B_W * K_O * K_JS), 1.14)\n",
    "print(\"磁芯AP值 A_P = %.4f cm^4\" % A_P)"
   ]
  },
  {
   "cell_type": "markdown",
   "id": "45945530",
   "metadata": {},
   "source": [
    "#### 磁芯选择"
   ]
  },
  {
   "cell_type": "code",
   "execution_count": null,
   "id": "070867a0",
   "metadata": {},
   "outputs": [
    {
     "name": "stdout",
     "output_type": "stream",
     "text": [
      "磁芯有效截面积 Ae = 144.50 mm^2\n",
      "磁芯窗口面积 Aw = 165.9000 mm^2\n",
      "磁芯有效面积 AP = 2.3973 cm^4\n",
      "磁芯参数满足要求AP=2.3973 >= 2*A_P=1.0470\n"
     ]
    }
   ],
   "source": [
    "# 磁芯参数计算\n",
    "\n",
    "# 加载参数文件\n",
    "json_path = Path(\"BYDZ_EECore.json\")\n",
    "core_data = load_core_parameters(json_path)\n",
    "\n",
    "Core_Type = \"EE40\"\n",
    "params = core_data[Core_Type]\n",
    "\n",
    "Ae = params[\"Ae\"]  # 磁芯有效截面积 (mm^2)\n",
    "print(f\"磁芯有效截面积 Ae = {Ae:.2f} mm^2\")\n",
    "Aw = params[\"Aw\"]  # 磁芯窗口面积 (mm^2)\n",
    "print(f\"磁芯窗口面积 Aw = {Aw:.4f} mm^2\")\n",
    "AP = Ae * 1e-2 * Aw * 1e-2  # 磁芯有效面积 (cm^4)\n",
    "print(f\"磁芯有效面积 AP = {AP:.4f} cm^4\")\n",
    "\n",
    "if AP <= (2 * A_P):\n",
    "    raise ValueError(f\"磁芯参数不满足：AP={AP:.4f} ≤ 2*A_P={2 * A_P:.4f}\")\n",
    "print(f\"磁芯参数满足要求AP={AP:.4f} >= 2*A_P={2 * A_P:.4f}\")"
   ]
  },
  {
   "cell_type": "markdown",
   "id": "c1e3e599",
   "metadata": {},
   "source": [
    "#### 变压器绕组"
   ]
  },
  {
   "cell_type": "code",
   "execution_count": null,
   "id": "563cf737",
   "metadata": {},
   "outputs": [
    {
     "name": "stdout",
     "output_type": "stream",
     "text": [
      "初级匝数 N_P = 51\n",
      "次级匝数 N_S = 13\n",
      "辅助绕组匝数 N_S1 = 10\n"
     ]
    }
   ],
   "source": [
    "# N_P_0 = (V_BULK_MIN*D_MAX)/(Ae*1e-6*B_MAX*F_SW) # 初级匝数\n",
    "\n",
    "N_P_0 = (V_BULK_MIN * m.sqrt(D_MAX) * 1e4) / (B_MAX * F_SW * K_RP)  # 初级匝数\n",
    "# N_P_0 =  23\n",
    "# print(\"初级匝数 N_P_0 = %.4f\" % N_P_0)\n",
    "N_S_0 = N_P_0 / N_PS  # 次级匝数\n",
    "N_S1_0 = N_S_0 * 18 / V_OUT  # 15V辅助绕组匝数\n",
    "\n",
    "# 实际选取匝数\n",
    "N_P = m.ceil(N_P_0)  # 初级匝数\n",
    "N_S = m.ceil(N_S_0)  # 次级匝数\n",
    "N_S1 = m.ceil(N_S1_0)  # 辅助绕组匝数\n",
    "\n",
    "V_BIAS = V_OUT * N_S1 / N_S\n",
    "\n",
    "if V_BIAS < 25:\n",
    "    print(\"初级匝数 N_P = %.d\" % N_P)\n",
    "    print(\"次级匝数 N_S = %.d\" % N_S)\n",
    "    print(\"辅助绕组匝数 N_S1 = %.d\" % N_S1)\n",
    "else:\n",
    "    print(\"匝数选取不合适，请重新计算！\")"
   ]
  },
  {
   "cell_type": "markdown",
   "id": "9310ce5a",
   "metadata": {},
   "source": [
    "确定绕组漆包线径"
   ]
  },
  {
   "cell_type": "code",
   "execution_count": 33,
   "id": "c8b89edf",
   "metadata": {},
   "outputs": [
    {
     "name": "stdout",
     "output_type": "stream",
     "text": [
      "趋肤深度 D_m = 0.4181 mm\n",
      "次级峰值电流 I_SPK = 16.7792 A\n",
      "次级有效电流 I_SRMS = 7.9444 A\n"
     ]
    }
   ],
   "source": [
    "# 趋肤深度计算（经验公式）\n",
    "D_m = 2 * 66.1e-3 / m.sqrt(F_SW)\n",
    "print(\"趋肤深度 D_m = %.4f mm\" % (D_m * 1e3))\n",
    "\n",
    "# 次级峰值电流\n",
    "I_SPK = I_PPK * N_P / N_S\n",
    "print(\"次级峰值电流 I_SPK = %.4f A\" % I_SPK)\n",
    "\n",
    "# 次级有效电流\n",
    "I_SRMS = I_SPK * m.sqrt((1 - D_MAX) * (pow(K_RP, 2) / 3 - K_RP + 1))\n",
    "print(\"次级有效电流 I_SRMS = %.4f A\" % I_SRMS)"
   ]
  },
  {
   "cell_type": "markdown",
   "id": "acb8bc94",
   "metadata": {},
   "source": [
    "选择0.25mm的线，电流密度一般为4~6A/mm^2，初级取4A/mm^2，次级取5A/mm^2"
   ]
  },
  {
   "cell_type": "code",
   "execution_count": 34,
   "id": "1944015a",
   "metadata": {},
   "outputs": [
    {
     "name": "stdout",
     "output_type": "stream",
     "text": [
      "初级线圈电流密度 J_p = 2.3560 A/mm^2\n",
      "次级线圈电流密度 J_s = 5.0309 A/mm^2\n"
     ]
    }
   ],
   "source": [
    "D_p = 0.4  # 初级线圈直径 (mm)\n",
    "P_p = 2  # 初级线圈并联数\n",
    "J_p = I_PRMS / ((m.pi * pow(D_p, 2) / 4) * m.pi * P_p)  # 初级线圈电流密度 (A/mm^2)\n",
    "print(\"初级线圈电流密度 J_p = %.4f A/mm^2\" % J_p)\n",
    "\n",
    "D_s = 0.4  # 次级线圈直径 (mm)\n",
    "P_s = 4  # 次级线圈并联数\n",
    "J_s = I_SRMS / ((m.pi * pow(D_s, 2) / 4) * m.pi * P_s)  # 次级线圈电流密度 (A/mm^2)\n",
    "print(\"次级线圈电流密度 J_s = %.4f A/mm^2\" % J_s)"
   ]
  },
  {
   "cell_type": "markdown",
   "id": "0f07964a",
   "metadata": {},
   "source": [
    "在选定变压器原副边绕组后，需核算变压器是否在选定线的绕组时，能否绕制得下，通过计算所有绕组截面积之和与变压器骨架窗口之得占比来判定。计算所有绕组截面积占变压器窗口的系数Kw"
   ]
  },
  {
   "cell_type": "code",
   "execution_count": 35,
   "id": "55e300a6",
   "metadata": {},
   "outputs": [
    {
     "name": "stdout",
     "output_type": "stream",
     "text": [
      "磁芯窗口填充系数 K_w = 0.1166\n"
     ]
    }
   ],
   "source": [
    "K_w = (\n",
    "    pow(D_p, 2) / 4 * m.pi * P_p * N_P + pow(D_s, 2) / 4 * m.pi * P_s * N_S\n",
    ") / Aw  # 磁芯窗口填充系数\n",
    "print(\"磁芯窗口填充系数 K_w = %.4f\" % K_w)"
   ]
  },
  {
   "cell_type": "markdown",
   "id": "eaebe224",
   "metadata": {},
   "source": [
    "通常变压器绕组设计时，由于绕组的线具有一定的绝缘层，同时，绕组过程中也会增加绝缘胶带，挡墙等，为了保证绕组能绕下，且具有较好的经济性，窗口系数一般指定在0.1~0.3之间较为合适，作为初学的稳定性考虑，经济性先不作为主要考虑，因此上述计算的窗口系数证明绕组选择相对合理。"
   ]
  },
  {
   "cell_type": "markdown",
   "id": "0f609ef1",
   "metadata": {},
   "source": [
    "### MOSFET"
   ]
  },
  {
   "cell_type": "code",
   "execution_count": null,
   "id": "03089552",
   "metadata": {},
   "outputs": [
    {
     "name": "stdout",
     "output_type": "stream",
     "text": [
      "MOSFET电压 V_mos = 471.67 V\n",
      "MOSFET选定电压应不小于 1.5*V_mos = 707.50 V\n"
     ]
    }
   ],
   "source": [
    "V_mos = (V_F + V_OUT) * N_P / N_S + V_BULK_MAX\n",
    "print(\"MOSFET电压 V_mos = %.2f V\" % V_mos)\n",
    "\n",
    "# 1.5倍裕量\n",
    "print(\"MOSFET选定电压应不小于 1.5*V_mos = %.2f V\" % (V_mos * 1.5))"
   ]
  },
  {
   "cell_type": "markdown",
   "id": "15f4a1d4",
   "metadata": {},
   "source": [
    "#### 二极管"
   ]
  },
  {
   "cell_type": "code",
   "execution_count": null,
   "id": "917a399a",
   "metadata": {},
   "outputs": [
    {
     "name": "stdout",
     "output_type": "stream",
     "text": [
      "次级二极管电压 V_dio = 119.53 V\n",
      "次级二极管选定电压应不小于 1.5*V_dio = 179.29 V\n",
      "辅助绕组二极管电压 V_dio1 = 97.48 V\n",
      "辅助绕组二极管选定电压应不小于 1.3*V_dio1 = 126.73 V\n"
     ]
    }
   ],
   "source": [
    "# 计算次级二极管电压\n",
    "V_dio = V_OUT+ V_BULK_MAX*N_S/N_P\n",
    "print(\"次级二极管电压 V_dio = %.2f V\" % V_dio)\n",
    "\n",
    "#1.5倍裕量\n",
    "print(\"次级二极管选定电压应不小于 1.5*V_dio = %.2f V\" % (V_dio*1.5))\n",
    "\n",
    "# 计算辅助绕组二极管电压\n",
    "V_dio1 = V_OUT+ V_BULK_MAX*N_S1/N_P\n",
    "print(\"辅助绕组二极管电压 V_dio1 = %.2f V\" % V_dio1)\n",
    "\n",
    "#1.3倍裕量\n",
    "print(\"辅助绕组二极管选定电压应不小于 1.3*V_dio1 = %.2f V\" % (V_dio1*1.3))"
   ]
  },
  {
   "cell_type": "markdown",
   "id": "3dae7521",
   "metadata": {},
   "source": [
    "#### 输出电容\n",
    "假定要设计的反激电路输出纹波电压 ΔVout为100mV，则在输出满载时，反激的输出负载电阻Rout为Vout/Iout=2.4R。再计算出电容数值"
   ]
  },
  {
   "cell_type": "code",
   "execution_count": 51,
   "id": "4429a73a",
   "metadata": {},
   "outputs": [
    {
     "name": "stdout",
     "output_type": "stream",
     "text": [
      "输出电阻 R_OUT = 4.80 Ohm\n",
      "输出电容 C_out = 439.23 uF\n"
     ]
    }
   ],
   "source": [
    "R_OUT = V_OUT * V_OUT / P_OUT\n",
    "I_OUT = P_OUT / V_OUT\n",
    "Nps = N_P / N_S\n",
    "print(\"输出电阻 R_OUT = %.2f Ohm\" % R_OUT)\n",
    "\n",
    "V_OUT_delta = 50e-3  # 输出电压纹波 (V)\n",
    "# 输出电容计算\n",
    "C_out = (\n",
    "    I_OUT * (Nps * V_OUT / (V_BULK_MIN + Nps * V_OUT)) / (V_OUT_delta * F_SW)\n",
    ")  # 输出电容\n",
    "print(\"输出电容 C_out = %.2f uF\" % (C_out * 1e6))"
   ]
  },
  {
   "cell_type": "markdown",
   "id": "c1f630cf",
   "metadata": {},
   "source": [
    "#### 电流检测网络"
   ]
  },
  {
   "cell_type": "code",
   "execution_count": null,
   "id": "68c580ed",
   "metadata": {},
   "outputs": [],
   "source": [
    "V_offset = "
   ]
  },
  {
   "cell_type": "markdown",
   "id": "3745c748",
   "metadata": {},
   "source": [
    "#### RCD\n",
    "先假设变压器的初级漏感Lk在激磁电感Lp的1%之内，计算出Lk = 1.5uH。假设电容的充电时间很短可以忽略不计，由于电容的放电是线性的，并且假设开关管的工作时最大电压Vmosmax不超过800V，再留个冗余，则可以得到钳位电容上的电压Vclamp："
   ]
  },
  {
   "cell_type": "code",
   "execution_count": null,
   "id": "83754117",
   "metadata": {},
   "outputs": [
    {
     "name": "stdout",
     "output_type": "stream",
     "text": [
      "反激变压器的钳位电压 V_clamp = 265.2334 V\n",
      "钳位电阻 R_c = 32.8221 kOhm\n",
      "钳位电容 C_c = 609.3464 pF\n",
      "钳位功率 P_clamp = 2.1836 W\n"
     ]
    }
   ],
   "source": [
    "L_k = L_P*0.01# 反激变压器的漏感值 (H)\n",
    "# L_k = 1.5e-6  # 反激变压器的漏感值 (H)\n",
    "V_mosmax = 800  # MOSFET的最大电压 (V)\n",
    "\n",
    "# 反激变压器的钳位电压 (V)\n",
    "V_clamp = 0.8 * V_mosmax - V_BULK_MAX\n",
    "print(\"反激变压器的钳位电压 V_clamp = %.4f V\" % V_clamp)\n",
    "\n",
    "# 钳位电阻计算\n",
    "R_c = (2 * V_clamp * (V_clamp - N_P / N_S * (V_F + V_OUT))) / (\n",
    "    L_k * pow(I_PPK, 2) * F_SW\n",
    ")  # 钳位电阻 (Ohm)\n",
    "print(\"钳位电阻 R_c = %.4f kOhm\" % (R_c / 1000))\n",
    "\n",
    "# 钳位电容计算\n",
    "C_c = (2 * V_clamp) / (R_c * F_SW * V_clamp)  # 钳位电容 (F)\n",
    "print(\"钳位电容 C_c = %.4f pF\" % (C_c * 1e12))\n",
    "\n",
    "# 钳位功率\n",
    "P_clamp = (\n",
    "    0.5 * F_SW * L_k * pow(I_PPK, 2) * (1 + V_OR / (V_clamp - V_OR))\n",
    ")  # 钳位功率 (W)\n",
    "print(\"钳位功率 P_clamp = %.4f W\" % P_clamp)"
   ]
  },
  {
   "cell_type": "markdown",
   "id": "8b26f090",
   "metadata": {},
   "source": [
    "### 将所有结果联合输出"
   ]
  },
  {
   "cell_type": "code",
   "execution_count": 43,
   "id": "2fbf116f",
   "metadata": {},
   "outputs": [
    {
     "name": "stdout",
     "output_type": "stream",
     "text": [
      "变压器参数：\n",
      "磁芯类型 Core_Type = EE40\n",
      "初级匝数 N_P = 51\n",
      "次级匝数 N_S = 13\n",
      "18V辅助绕组匝数 N_S1 = 10\n",
      "\n",
      "初级电感 L_P = 148.7213 uH\n",
      "初级线径 D_P = 0.40 mm\n",
      "初级线圈并联数 P_P = 2\n",
      "次级线径 D_S = 0.40 mm\n",
      "次级线圈并联数 P_S = 4\n",
      "\n",
      "------------------------------------------------------------------\n",
      "\n",
      "MOSFET参数：\n",
      "MOSFET选定电压应不小于 1.5*V_mos = 707.4999 V\n",
      "\n",
      "------------------------------------------------------------------\n",
      "\n",
      "次级二极管参数：\n",
      "次级二极管选定电压应不小于 1.5*V_dio = 179.2931 V\n",
      "\n",
      "------------------------------------------------------------------\n",
      "\n",
      "辅助绕组二极管参数：\n",
      "辅助绕组二极管选定电压应不小于 1.5*V_dio1 = 146.2255 V\n",
      "\n",
      "------------------------------------------------------------------\n",
      "\n",
      "RCD钳位参数：\n",
      "钳位电阻 R_c = 32.5423 kOhm\n",
      "钳位电容 C_c = 614.5855 pF\n",
      "嵌位功率 P_clamp = 2.2023 W\n",
      "\n",
      "------------------------------------------------------------------\n",
      "\n",
      "输出电容参数：\n",
      "输出电容 C_out = 228.8244 uF\n",
      "\n",
      "------------------------------------------------------------------\n",
      "\n",
      "正常占空比 D_NOM = 0.2442\n"
     ]
    }
   ],
   "source": [
    "# 打印输出结果\n",
    "# 打印变压器结果\n",
    "print(\"变压器参数：\")\n",
    "print(\"磁芯类型 Core_Type = %s\" % Core_Type)\n",
    "print(\"初级匝数 N_P = %d\" % N_P)\n",
    "print(\"次级匝数 N_S = %d\" % N_S)\n",
    "print(\"18V辅助绕组匝数 N_S1 = %d\" % N_S1)\n",
    "print(\"\")\n",
    "print(\"初级电感 L_P = %.4f uH\" % L_P_uH)\n",
    "print(\"初级线径 D_P = %.2f mm\" % D_p)\n",
    "print(\"初级线圈并联数 P_P = %d\" % P_p)\n",
    "print(\"次级线径 D_S = %.2f mm\" % D_s)\n",
    "print(\"次级线圈并联数 P_S = %d\" % P_s)\n",
    "print(\"\")\n",
    "print(\"------------------------------------------------------------------\")\n",
    "print(\"\")\n",
    "\n",
    "# 打印MOSFET结果\n",
    "print(\"MOSFET参数：\")\n",
    "# print(\"MOSFET电压 V_mos = %.4f V\" % V_mos)\n",
    "print(\"MOSFET选定电压应不小于 1.5*V_mos = %.4f V\" % (V_mos * 1.5))\n",
    "print(\"\")\n",
    "print(\"------------------------------------------------------------------\")\n",
    "print(\"\")\n",
    "\n",
    "# 打印次级二极管结果\n",
    "print(\"次级二极管参数：\")\n",
    "# print(\"次级二极管电压 V_dio = %.4f V\" % V_dio)\n",
    "print(\"次级二极管选定电压应不小于 1.5*V_dio = %.4f V\" % (V_dio * 1.5))\n",
    "print(\"\")\n",
    "print(\"------------------------------------------------------------------\")\n",
    "print(\"\")\n",
    "\n",
    "# 打印辅助绕组二极管结果\n",
    "print(\"辅助绕组二极管参数：\")\n",
    "# print(\"辅助绕组二极管电压 V_dio1 = %.4f V\" % V_dio1)\n",
    "print(\"辅助绕组二极管选定电压应不小于 1.5*V_dio1 = %.4f V\" % (V_dio1 * 1.5))\n",
    "print(\"\")\n",
    "print(\"------------------------------------------------------------------\")\n",
    "print(\"\")\n",
    "\n",
    "# 打印RCD钳位结果\n",
    "print(\"RCD钳位参数：\")\n",
    "print(\"钳位电阻 R_c = %.4f kOhm\" % (R_c / 1000))\n",
    "print(\"钳位电容 C_c = %.4f pF\" % (C_c * 1e12))\n",
    "print(\"嵌位功率 P_clamp = %.4f W\" % P_clamp)\n",
    "print(\"\")\n",
    "print(\"------------------------------------------------------------------\")\n",
    "print(\"\")\n",
    "\n",
    "# 打印输出电容结果\n",
    "print(\"输出电容参数：\")\n",
    "print(\"输出电容 C_out = %.4f uF\" % (C_out * 1e6))\n",
    "print(\"\")\n",
    "print(\"------------------------------------------------------------------\")\n",
    "print(\"\")\n",
    "\n",
    "print(\"正常占空比 D_NOM = %.4f\" % D_NOM)"
   ]
  },
  {
   "cell_type": "code",
   "execution_count": 46,
   "id": "758f751a",
   "metadata": {},
   "outputs": [
    {
     "name": "stdout",
     "output_type": "stream",
     "text": [
      "fz = 28218.9615\n",
      "frz = 50812.5040\n",
      "所有0 dB穿越点及其相位裕度:\n",
      "穿越频率: 598.39 Hz, 相位裕度: 95.44°\n",
      "穿越频率: 2387507.07 Hz, 相位裕度: 90.55°\n"
     ]
    },
    {
     "data": {
      "image/png": "[encoded data removed]",
      "text/plain": [
       "<Figure size 640x480 with 2 Axes>"
      ]
     },
     "metadata": {},
     "output_type": "display_data"
    }
   ],
   "source": [
    "Rload = R_OUT  # 负载电阻 (Ohm)\n",
    "C_out = 470e-6*2  # 实际输出电容 (F)\n",
    "\n",
    "Nps = N_P / N_S  # 实际匝数比\n",
    "Nt = 1 / Nps\n",
    "Rsense = 1 / 5\n",
    "Esr = 0.006\n",
    "wz = 1 / Esr / C_out\n",
    "print(\"fz = %.4f\" % (wz/2/np.pi))\n",
    "wrz = Rload * (1 - D_MAX ) * (1 - D_MAX ) / Nt / Nt / D_MAX  / L_P\n",
    "print(\"frz = %.4f\" % (wrz/2/np.pi))\n",
    "wp = (1+D_MAX ) / Rload/C_out\n",
    "Ak = 1 / 3\n",
    "s = ctrl.TransferFunction.s\n",
    "Gvv = (\n",
    "    Ak\n",
    "    * Rload\n",
    "    * Nps\n",
    "    * (1 - D_MAX )\n",
    "    * (1 + s / wz)\n",
    "    * (1 - s / wrz)\n",
    "    / ((1 + D_MAX ) * Rsense * (1 + s / wp))\n",
    ")\n",
    "\n",
    "freq_Hz = np.logspace(1, 7, 1000)\n",
    "omega = 2 * np.pi * freq_Hz\n",
    "\n",
    "# 计算频率响应\n",
    "mag, phase, omega = ctrl.frequency_response(Gvv, omega=omega)\n",
    "mag_db = 20 * np.log10(mag)\n",
    "phase_deg = np.degrees(phase)\n",
    "\n",
    "# 查找所有0 dB穿越点\n",
    "def find_zero_crossings(freq, mag_db):\n",
    "    crossings = []\n",
    "    for i in range(len(mag_db)-1):\n",
    "        if mag_db[i] * mag_db[i+1] < 0:\n",
    "            f_interp = interp1d(mag_db[i:i+2], freq[i:i+2], kind='linear')\n",
    "            cross_freq = f_interp(0)\n",
    "            crossings.append(cross_freq)\n",
    "    return crossings\n",
    "\n",
    "zero_crossings_Hz = find_zero_crossings(freq_Hz, mag_db)\n",
    "\n",
    "# 计算相位裕度\n",
    "phase_margins = []\n",
    "for cross_freq_Hz in zero_crossings_Hz:\n",
    "    idx = np.argmin(np.abs(freq_Hz - cross_freq_Hz))\n",
    "    pm = phase_deg[idx] + 180\n",
    "    phase_margins.append(pm)\n",
    "\n",
    "# 输出结果\n",
    "print(\"所有0 dB穿越点及其相位裕度:\")\n",
    "for freq, pm in zip(zero_crossings_Hz, phase_margins):\n",
    "    print(f\"穿越频率: {freq:.2f} Hz, 相位裕度: {pm:.2f}°\")\n",
    "\n",
    "# 绘制 Bode 图并显示稳定裕度\n",
    "plt.figure()\n",
    "ctrl.bode_plot(Gvv, omega=omega, dB=True, Hz=True, display_margins=True)\n",
    "plt.grid(True)\n",
    "plt.show()"
   ]
  },
  {
   "cell_type": "markdown",
   "id": "72684fee",
   "metadata": {},
   "source": [
    "由上图，有两个穿越点，3265.07 Hz和5910782.34 Hz，在高频段增益曲线上翘，是个不稳定系统"
   ]
  },
  {
   "cell_type": "code",
   "execution_count": 18,
   "id": "25c45e85",
   "metadata": {},
   "outputs": [
    {
     "name": "stdout",
     "output_type": "stream",
     "text": [
      "C_COMP_P = 149.6056 pF\n"
     ]
    }
   ],
   "source": [
    "R_COM_P = 3000\n",
    "C_COMP_P = 1/(2*np.pi*wz*R_COM_P)\n",
    "print(\"C_COMP_P = %.4f pF\" % (C_COMP_P*1e12))"
   ]
  },
  {
   "cell_type": "markdown",
   "id": "2039925d",
   "metadata": {},
   "source": [
    "电压环补偿，将RCOMP假设为1000 Ohm，然后用之前计算的wz得出CCOMPP"
   ]
  },
  {
   "cell_type": "code",
   "execution_count": 19,
   "id": "068e5e82",
   "metadata": {},
   "outputs": [],
   "source": [
    "#将上面的输出手动指定为实际值\n",
    "# C_COMP_P = (300)*1e-12 # 反馈电容 (F)"
   ]
  },
  {
   "cell_type": "code",
   "execution_count": 20,
   "id": "c93c07e0",
   "metadata": {},
   "outputs": [],
   "source": [
    "R_FB = 1000\n",
    "Gvp = R_COM_P/(R_FB*(1+s*R_COM_P*C_COMP_P))"
   ]
  },
  {
   "cell_type": "code",
   "execution_count": 21,
   "id": "11378b5b",
   "metadata": {},
   "outputs": [
    {
     "name": "stdout",
     "output_type": "stream",
     "text": [
      "|Gvv| at 20000.0 Hz = 0.06845535800704576\n",
      "9841.93058769892\n"
     ]
    },
    {
     "data": {
      "image/png": "[encoded data removed]",
      "text/plain": [
       "<Figure size 640x480 with 2 Axes>"
      ]
     },
     "metadata": {},
     "output_type": "display_data"
    }
   ],
   "source": [
    "frequency = 20e3  # Hz\n",
    "ss = 1j * 2 * np.pi * frequency\n",
    "sss = 1 * I * 2 * np.pi * frequency\n",
    "CTR = 0.5  # 光耦原副边电流比\n",
    "R_pd = 1000  # 光耦副边下拉电阻\n",
    "R_LED = symbols(\"R_LED\", complex=True)  # 光耦LED电阻\n",
    "\n",
    "\n",
    "# 代入传递函数公式\n",
    "numerator = Ak * Rload * Nps * (1 - D_MAX) * (1 + ss / wz) * (1 - ss / wrz)\n",
    "denominator = (1 + D_MAX) * Rsense * (1 + ss / wp)\n",
    "Gvv_value = numerator / denominator\n",
    "\n",
    "# 输出结果\n",
    "magnitude = np.abs(Gvv_value)\n",
    "print(f\"|Gvv| at {frequency} Hz = {magnitude}\")\n",
    "\n",
    "Got_ = V_OUT * 1000 / R_LED * (1 + sss * 1000 * 0.1e-6 / (sss * 1000 * 0.1e-6))\n",
    "Gvp_ = R_COM_P / (R_FB * (1 + sss * R_COM_P * C_COMP_P))\n",
    "equation = Eq(Got_ * Gvp_, (1 / Gvv_value))\n",
    "solution = solve(equation, R_LED)\n",
    "print(np.abs(solution[0]))\n",
    "R_LED_VALUE = np.abs(solution[0])\n",
    "# R_LED_VALUE = 1.2e3\n",
    "\n",
    "Got = V_OUT * 1000 / 11.7e3 * (1 + s * 1000 * 0.1e-6 / (s * 1000 * 0.1e-6))\n",
    "Gvp = R_COM_P / (R_FB * (1 + s * R_COM_P * C_COMP_P))\n",
    "Gs = Got * Gvp * Gvv\n",
    "plt.figure()\n",
    "ctrl.bode_plot(Gs, omega=omega, dB=True, Hz=True, display_margins=True)\n",
    "plt.grid(True)\n",
    "plt.show()\n"
   ]
  },
  {
   "cell_type": "code",
   "execution_count": 22,
   "id": "1f165285",
   "metadata": {},
   "outputs": [
    {
     "name": "stdout",
     "output_type": "stream",
     "text": [
      "光耦及TL431参数：\n",
      "光耦LED电阻 R_LED = 9841.9306 Ohm\n",
      "光耦副边下拉电阻 R_pd = 1000.0000 Ohm\n",
      "光耦原副边电流比 CTR = 0.5000\n",
      "反馈电阻 R_FB = 1000.0000 Ohm\n",
      "UC4832参数：\n",
      "补偿电阻 R_COM_P = 3.0000 kOhm\n",
      "补偿电容 C_COMP_P = 149.6056 pF\n"
     ]
    }
   ],
   "source": [
    "# 环路补偿输出\n",
    "print(\"光耦及TL431参数：\")\n",
    "print(\"光耦LED电阻 R_LED = %.4f Ohm\" % R_LED_VALUE)\n",
    "print(\"光耦副边下拉电阻 R_pd = %.4f Ohm\" % R_pd)\n",
    "print(\"光耦原副边电流比 CTR = %.4f\" % CTR)\n",
    "print(\"反馈电阻 R_FB = %.4f Ohm\" % R_FB)\n",
    "\n",
    "print(\"UC4832参数：\")\n",
    "# print(\"补偿电容 C_COMP_P = %.4f pF\" % (C_COMP_P * 1e12))\n",
    "# print(\"补偿电阻 R_COM_P = %.4f Ohm\" % R_COM_P)\n",
    "print(\"补偿电阻 R_COM_P = %.4f kOhm\" % (R_COM_P / 1000))\n",
    "print(\"补偿电容 C_COMP_P = %.4f pF\" % (C_COMP_P * 1e12))"
   ]
  },
  {
   "cell_type": "code",
   "execution_count": 23,
   "id": "20ffde94",
   "metadata": {},
   "outputs": [
    {
     "name": "stdout",
     "output_type": "stream",
     "text": [
      "带宽 f_BW = 12.7031 kHz\n"
     ]
    }
   ],
   "source": [
    "f_BW = wrz/(2 * np.pi)/4\n",
    "print(\"带宽 f_BW = %.4f kHz\" % (f_BW/1e3))"
   ]
  },
  {
   "cell_type": "code",
   "execution_count": null,
   "id": "da448f53",
   "metadata": {},
   "outputs": [],
   "source": []
  }
 ],
 "metadata": {
  "kernelspec": {
   "display_name": "Python 3",
   "language": "python",
   "name": "python3"
  },
  "language_info": {
   "codemirror_mode": {
    "name": "ipython",
    "version": 3
   },
   "file_extension": ".py",
   "mimetype": "text/x-python",
   "name": "python",
   "nbconvert_exporter": "python",
   "pygments_lexer": "ipython3",
   "version": "3.13.3"
  }
 },
 "nbformat": 4,
 "nbformat_minor": 5
}
