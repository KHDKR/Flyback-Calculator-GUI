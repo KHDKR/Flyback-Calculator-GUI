{
 "cells": [
  {
   "cell_type": "markdown",
   "id": "5c29226b",
   "metadata": {},
   "source": [
    "## 反激电源计算"
   ]
  },
  {
   "cell_type": "code",
   "execution_count": 772,
   "id": "cd5c4e39",
   "metadata": {
    "ExecuteTime": {
     "end_time": "2025-05-19T06:41:43.742069Z",
     "start_time": "2025-05-19T06:41:43.735675Z"
    }
   },
   "outputs": [],
   "source": [
    "# 头文件\n",
    "import math as m\n",
    "import numpy as np\n",
    "import matplotlib.pyplot as plt\n",
    "import numpy as np\n",
    "import control as ctrl\n",
    "# from scipy.interpolate import interp1d\n",
    "# from sympy import symbols, Eq, solve, I\n",
    "from pathlib import Path\n",
    "from json_pre import load_core_parameters\n",
    "import json"
   ]
  },
  {
   "cell_type": "markdown",
   "id": "50afa236",
   "metadata": {},
   "source": [
    "### 输入参数"
   ]
  },
  {
   "cell_type": "code",
   "execution_count": 773,
   "id": "dbdfe572",
   "metadata": {
    "ExecuteTime": {
     "end_time": "2025-05-19T06:41:43.782740Z",
     "start_time": "2025-05-19T06:41:43.777038Z"
    }
   },
   "outputs": [],
   "source": [
    "V_IN = 220  # 常规输入电压 (V)\n",
    "V_AC_MIN = 85  # 最小输入电压 (V)\n",
    "V_AC_MAX = 265  # 最大输入电压 (V)\n",
    "\n",
    "f_LINE_MIN = 47  # 最小输入频率 (Hz)\n",
    "f_LINE_MAX = 63  # 最大输入频率 (Hz)\n",
    "\n",
    "V_BIAS = 15  # 电压偏置 (V)  用于给IC供电\n",
    "\n",
    "P_OUT = 120  # 输出功率 (W)\n",
    "V_OUT = 24  # 输出电压 (V)\n",
    "I_OUT = P_OUT / V_OUT  # 输出电流(A)\n",
    "R_OUT = V_OUT / I_OUT  # 输出阻值(Ω)\n",
    "\n",
    "V_RIPPLE = 100e-3  # 输出纹波电压(V)\n",
    "V_DELTA = V_RIPPLE / V_OUT\n",
    "\n",
    "ETA = 0.85  # 效率\n",
    "\n",
    "F_SW = 100e3  # 开关频率 (Hz)\n",
    "\n",
    "P_IN = P_OUT / ETA  # 输入功率 (W)\n",
    "\n",
    "V_DS_Rated = 800  # MOSFET 额定电压 (V)\n",
    "\n",
    "K_RP = 0.8  # 电流脉动系数\n",
    "V_F = 0.7  # 输出二极管正向压降 (V)\n",
    "\n",
    "K_O = 0.4  # 反激变压器窗口填充系数\n",
    "B_W = 0.2  # 变压器的磁通量(T)\n",
    "B_MAX = 0.15  # 变压器的最大磁通密度 (mT)   DCM下，一般取0.2-0.26T；CCM下，一般取0.12-0.18T\n",
    "\n",
    "K_JP = 3  # 初级电流密度系数\n",
    "K_JS = 5.5  # 次级电流密度系数"
   ]
  },
  {
   "cell_type": "markdown",
   "id": "e0b5d836",
   "metadata": {},
   "source": [
    "### 单相桥式整流滤波电路"
   ]
  },
  {
   "cell_type": "code",
   "execution_count": 774,
   "id": "916664f6",
   "metadata": {
    "ExecuteTime": {
     "end_time": "2025-05-19T06:41:43.871226Z",
     "start_time": "2025-05-19T06:41:43.866901Z"
    }
   },
   "outputs": [
    {
     "name": "stdout",
     "output_type": "stream",
     "text": [
      "最小整流电压 V_BULK_MIN: 73.91\n",
      "最大整流电压 V_BULK_MAX: 374.77\n",
      "最大输入电流 I_AC_MAX: 1.66\n"
     ]
    }
   ],
   "source": [
    "V_BULK_MIN = V_AC_MIN / 1.15  # 最小整流电压\n",
    "V_BULK_MAX = V_AC_MAX * m.sqrt(2)  # 最大整流电压\n",
    "I_AC_MAX = P_IN / V_AC_MIN  # 最大输入电流\n",
    "\n",
    "print(\"最小整流电压 V_BULK_MIN: %.2f\" % V_BULK_MIN)\n",
    "print(\"最大整流电压 V_BULK_MAX: %.2f\" % V_BULK_MAX)\n",
    "print(\"最大输入电流 I_AC_MAX: %.2f\" % I_AC_MAX)"
   ]
  },
  {
   "cell_type": "markdown",
   "id": "3691c65b",
   "metadata": {},
   "source": [
    "### 1. 输入电容"
   ]
  },
  {
   "cell_type": "code",
   "execution_count": 775,
   "id": "c663572c",
   "metadata": {
    "ExecuteTime": {
     "end_time": "2025-05-19T06:41:44.010993Z",
     "start_time": "2025-05-19T06:41:44.005991Z"
    }
   },
   "outputs": [
    {
     "name": "stdout",
     "output_type": "stream",
     "text": [
      "输入电容 C_in = 308.03uF\n"
     ]
    }
   ],
   "source": [
    "C_IN = (\n",
    "    2 * P_IN * (0.25 + 1 / np.pi * np.arcsin(V_BULK_MIN / m.sqrt(2) / V_AC_MIN))\n",
    ") / ((2 * m.pow(V_AC_MIN, 2) - m.pow(V_BULK_MIN, 2)) * f_LINE_MIN)\n",
    "print(\"输入电容 C_in = %.2fuF\" % (C_IN * 1e6))"
   ]
  },
  {
   "cell_type": "markdown",
   "id": "224a634c",
   "metadata": {},
   "source": [
    "### 2. 变压器匝数比和最大占空比"
   ]
  },
  {
   "cell_type": "code",
   "execution_count": 776,
   "id": "f72d80cf39739319",
   "metadata": {
    "ExecuteTime": {
     "end_time": "2025-05-19T06:41:44.124985Z",
     "start_time": "2025-05-19T06:41:44.118792Z"
    }
   },
   "outputs": [
    {
     "name": "stdout",
     "output_type": "stream",
     "text": [
      "最大反射电压 250.24V\n",
      "反射电压取 220.00V\n",
      "\n",
      "计算匝数比 9.17\n"
     ]
    }
   ],
   "source": [
    "V_REFLECTED_0 = 0.8 * (V_DS_Rated - 1.3 * V_BULK_MAX)  # 最大反射输出电压\n",
    "print(\"最大反射电压 %.2fV\" % V_REFLECTED_0)\n",
    "V_REFLECTED = 220\n",
    "if V_REFLECTED > V_REFLECTED_0:\n",
    "    raise ValueError(\"反射电压太大，请重新设置！\")\n",
    "elif (V_REFLECTED_0 - V_REFLECTED) > 50:\n",
    "    raise ValueError(\"反射电压太小，请重新设置！\")\n",
    "print(\"反射电压取 %.2fV\\n\" % V_REFLECTED)\n",
    "\n",
    "N_PS = V_REFLECTED / V_OUT  # 匝数比\n",
    "print(\"计算匝数比 %.2f\" % N_PS)"
   ]
  },
  {
   "cell_type": "markdown",
   "id": "49f9081a",
   "metadata": {},
   "source": [
    "### ... 变压器磁芯"
   ]
  },
  {
   "cell_type": "code",
   "execution_count": 777,
   "id": "8f7b5d98",
   "metadata": {
    "ExecuteTime": {
     "end_time": "2025-05-19T06:41:44.308151Z",
     "start_time": "2025-05-19T06:41:44.302869Z"
    }
   },
   "outputs": [
    {
     "name": "stdout",
     "output_type": "stream",
     "text": [
      "反射电压 V_REFLECTED = 220.00 V\n"
     ]
    }
   ],
   "source": [
    "V_REFLECTED = N_PS*V_OUT\n",
    "print(f\"反射电压 V_REFLECTED = {V_REFLECTED:.2f} V\")"
   ]
  },
  {
   "cell_type": "code",
   "execution_count": 778,
   "id": "911a3793",
   "metadata": {
    "ExecuteTime": {
     "end_time": "2025-05-19T06:41:44.479143Z",
     "start_time": "2025-05-19T06:41:44.474591Z"
    }
   },
   "outputs": [
    {
     "name": "stdout",
     "output_type": "stream",
     "text": [
      "输出二极管电压 64.88V\n",
      "\n",
      "CCM模式最大占空比 0.75\n"
     ]
    }
   ],
   "source": [
    "V_DIODE = V_BULK_MAX / N_PS + V_OUT  # 输出二极管电压\n",
    "print(\"输出二极管电压 %.2fV\\n\" % V_DIODE)\n",
    "\n",
    "D_MAX = (N_PS * (V_OUT + V_F)) / (V_BULK_MIN + N_PS * (V_OUT + V_F))  # 最大占空比\n",
    "print(\"CCM模式最大占空比 %.2f\" % D_MAX)"
   ]
  },
  {
   "cell_type": "code",
   "execution_count": 779,
   "id": "997a120c",
   "metadata": {
    "ExecuteTime": {
     "end_time": "2025-05-19T06:41:44.632553Z",
     "start_time": "2025-05-19T06:41:44.626670Z"
    }
   },
   "outputs": [
    {
     "name": "stdout",
     "output_type": "stream",
     "text": [
      "磁芯有效截面积 Ae = 180.70 mm^2\n",
      "磁芯窗口面积 Aw = 176.0000 mm^2\n",
      "磁芯有效面积 AP = 3.1803 cm^4\n"
     ]
    }
   ],
   "source": [
    "PQ_json_path = Path(\"BYDZ_PQCore.json\")\n",
    "PQ_Core_data = load_core_parameters(PQ_json_path)\n",
    "\n",
    "Core_Type = \"PQ3530\"\n",
    "params = PQ_Core_data[Core_Type]\n",
    "Ae = params[\"Ae\"]  # 磁芯有效截面积 (mm^2)\n",
    "\n",
    "print(f\"磁芯有效截面积 Ae = {Ae:.2f} mm^2\")\n",
    "Aw = params[\"Aw\"]  # 磁芯窗口面积 (mm^2)\n",
    "print(f\"磁芯窗口面积 Aw = {Aw:.4f} mm^2\")\n",
    "AP = Ae * 1e-2 * Aw * 1e-2  # 磁芯有效面积 (cm^4)\n",
    "print(f\"磁芯有效面积 AP = {AP:.4f} cm^4\")"
   ]
  },
  {
   "cell_type": "markdown",
   "id": "b3aba2f4",
   "metadata": {},
   "source": [
    "#### 变压器电感"
   ]
  },
  {
   "cell_type": "code",
   "execution_count": 780,
   "id": "e0a8ac34",
   "metadata": {
    "ExecuteTime": {
     "end_time": "2025-05-19T06:41:44.773998Z",
     "start_time": "2025-05-19T06:41:44.769687Z"
    }
   },
   "outputs": [
    {
     "name": "stdout",
     "output_type": "stream",
     "text": [
      "CCM 反激式的电感器计算容量为：0.22mH\n",
      "CCM 反激式的电感器实际取值为：0.60mH\n",
      "\n"
     ]
    }
   ],
   "source": [
    "L_P_0 = 1/2*m.pow(V_BULK_MIN*D_MAX, 2) /(P_IN*F_SW*0.5)\n",
    "print(\"CCM 反激式的电感器计算容量为：%.2fmH\" % (1e3 * L_P_0))\n",
    "L_P = 0.6e-3\n",
    "print(\"CCM 反激式的电感器实际取值为：%.2fmH\\n\" % (1e3 * L_P))"
   ]
  },
  {
   "cell_type": "markdown",
   "id": "0e796646",
   "metadata": {},
   "source": [
    "迭代计算实际匝数和占空比"
   ]
  },
  {
   "cell_type": "code",
   "execution_count": null,
   "id": "b87f49f6",
   "metadata": {
    "ExecuteTime": {
     "end_time": "2025-05-19T06:41:44.910418Z",
     "start_time": "2025-05-19T06:41:44.903434Z"
    }
   },
   "outputs": [
    {
     "name": "stdout",
     "output_type": "stream",
     "text": [
      "输入电流 I_1 = 2.5224 A\n",
      "迭代开始时最大占空比 D_MAX = 75.7221%\n",
      "迭代结束时最大占空比 D_MAX = 75.7221%\n",
      "变压器一次侧匝数N_P = 56\n",
      "变压器二次侧匝数N_S = 6\n",
      "变压器实际变比 N_PS = 9.33\n"
     ]
    }
   ],
   "source": [
    "D_MAX = (N_PS * (V_OUT + V_F)) / (V_BULK_MIN + N_PS * (V_OUT + V_F))  # 最大占空比\n",
    "D_MAX_TEMP = D_MAX\n",
    "I_1 = P_IN / (D_MAX * V_BULK_MIN)\n",
    "print(\"迭代开始时最大占空比 D_MAX = %.4f%%\" % (D_MAX * 100))\n",
    "while True:\n",
    "    # N_P_0 = V_BULK_MIN * 1 / 100e3 * D_MAX * 100 / (B_MAX * Ae * 1e-4)\n",
    "    N_P_0 = L_P * I_1 * 1e6 / (B_MAX * Ae)\n",
    "    N_P = round(N_P_0)\n",
    "    N_S_0 = N_P / N_PS\n",
    "    N_S = round(N_S_0)\n",
    "    N_PS = N_P / N_S\n",
    "\n",
    "    V_DIODE = V_BULK_MAX / N_PS + V_OUT  # 输出二极管电压\n",
    "\n",
    "    D_MAX_TEMP = (N_PS * (V_OUT + V_F)) / (\n",
    "        V_BULK_MIN + N_PS * (V_OUT + V_F)\n",
    "    )  # 最大占空比\n",
    "    if abs(D_MAX - D_MAX_TEMP) > 0.001:\n",
    "        D_MAX = D_MAX_TEMP\n",
    "        continue\n",
    "    else:\n",
    "        print(\"迭代结束时最大占空比 D_MAX = %.4f%%\" % (D_MAX * 100))\n",
    "        break\n",
    "\n",
    "print(f\"变压器一次侧匝数N_P = {N_P}\")\n",
    "print(f\"变压器二次侧匝数N_S = {N_S}\")\n",
    "print(f\"变压器实际变比 N_PS = {N_PS:.2f}\")"
   ]
  },
  {
   "cell_type": "code",
   "execution_count": 782,
   "id": "58d02fb6",
   "metadata": {
    "ExecuteTime": {
     "end_time": "2025-05-19T06:41:45.059458Z",
     "start_time": "2025-05-19T06:41:45.054456Z"
    }
   },
   "outputs": [
    {
     "name": "stdout",
     "output_type": "stream",
     "text": [
      "计算辅助电源匝数比 14.93\n",
      "辅助电源匝数比取 13\n",
      "辅助绕组电压17.23V\n",
      "\n",
      "计算辅助绕组匝数 4.31\n",
      "辅助绕组匝数取 4\n",
      "辅助绕组实际电压16.00V\n"
     ]
    }
   ],
   "source": [
    "N_PA_0 = N_PS * V_OUT / V_BIAS  # 辅助电源匝数比\n",
    "print(\"计算辅助电源匝数比 %.2f\" % N_PA_0)\n",
    "N_PA = 13\n",
    "if (N_PS / N_PA) * V_OUT > 20:\n",
    "    raise ValueError(\"辅助电源匝数比太大，请重新设置！\")\n",
    "elif (N_PS / N_PA) * V_OUT < 15:\n",
    "    raise ValueError(\"辅助电源匝数比太小，请重新设置！\")\n",
    "print(\"辅助电源匝数比取 %.d\" % N_PA)\n",
    "print(\"辅助绕组电压%.2fV\\n\" % (N_PS / N_PA * V_OUT))\n",
    "\n",
    "N_A_0 = N_P/N_PA\n",
    "print(\"计算辅助绕组匝数 %.2f\" % N_A_0)\n",
    "N_A = round(N_A_0)\n",
    "N_PA = N_P/N_A\n",
    "print(\"辅助绕组匝数取 %.d\" % N_A)\n",
    "print(\"辅助绕组实际电压%.2fV\" % (N_PS / N_PA * V_OUT))"
   ]
  },
  {
   "cell_type": "markdown",
   "id": "ab3289da",
   "metadata": {},
   "source": [
    "#### 气隙"
   ]
  },
  {
   "cell_type": "code",
   "execution_count": 783,
   "id": "17ed4e4f",
   "metadata": {},
   "outputs": [
    {
     "name": "stdout",
     "output_type": "stream",
     "text": [
      "气隙长度 l_g = 0.12 mm\n"
     ]
    }
   ],
   "source": [
    "mu_r = 1 # 空气相对磁导率\n",
    "mu_0 = 0.4*np.pi*1e-7 # 铁氧体相对磁导率\n",
    "l_g = mu_0*mu_r*N_P*N_P*Ae*1e-6/L_P*1e3 # 气隙长度\n",
    "print(f\"气隙长度 l_g = {l_g:.2f} mm\")"
   ]
  },
  {
   "cell_type": "markdown",
   "id": "a4b22ff9",
   "metadata": {},
   "source": [
    "### 3. 初级电流"
   ]
  },
  {
   "cell_type": "code",
   "execution_count": 784,
   "id": "370ae4ea",
   "metadata": {
    "ExecuteTime": {
     "end_time": "2025-05-19T06:41:45.179787Z",
     "start_time": "2025-05-19T06:41:45.174857Z"
    }
   },
   "outputs": [
    {
     "name": "stdout",
     "output_type": "stream",
     "text": [
      "CCM 反激式的初级MOSFET峰值电流为：3.00A\n",
      "\n",
      "CCM 反激式的初级MOSFET 均方根电流为：2.22A\n",
      "\n",
      "CCM 反激式的次级二极管峰值电流为：28.03A\n"
     ]
    }
   ],
   "source": [
    "I_PK_MOSFET = (P_IN / (V_BULK_MIN * (N_PS * V_OUT / (V_BULK_MIN + N_PS * V_OUT)))) + (\n",
    "    V_BULK_MIN / (2 * L_P) * (N_PS * V_OUT / (V_BULK_MIN + N_PS * V_OUT)) / F_SW\n",
    ")\n",
    "print(\"CCM 反激式的初级MOSFET峰值电流为：%.2fA\\n\" % I_PK_MOSFET)\n",
    "\n",
    "I_RMS_MOSFET = np.sqrt(\n",
    "    (m.pow(D_MAX, 3) / 3) * m.pow(V_BULK_MIN / (L_P * F_SW), 2)\n",
    "    - ((m.pow(D_MAX, 2) * I_PK_MOSFET * V_BULK_MIN) / (L_P * F_SW))\n",
    "    + (D_MAX * m.pow(I_PK_MOSFET, 2))\n",
    ")\n",
    "print(\"CCM 反激式的初级MOSFET 均方根电流为：%.2fA\\n\" % I_RMS_MOSFET)\n",
    "\n",
    "I_PK_DIODE = N_PS * I_PK_MOSFET\n",
    "print(\"CCM 反激式的次级二极管峰值电流为：%.2fA\" % I_PK_DIODE)"
   ]
  },
  {
   "cell_type": "markdown",
   "id": "31b3c81f",
   "metadata": {},
   "source": [
    "### 4. 输出电容器"
   ]
  },
  {
   "cell_type": "code",
   "execution_count": 785,
   "id": "49f9bf11",
   "metadata": {
    "ExecuteTime": {
     "end_time": "2025-05-19T06:41:45.332532Z",
     "start_time": "2025-05-19T06:41:45.327529Z"
    }
   },
   "outputs": [
    {
     "name": "stdout",
     "output_type": "stream",
     "text": [
      "最小输出电容375.95 uF\n",
      "输出电容500.00 uF\n"
     ]
    }
   ],
   "source": [
    "C_OUT_MIN = (I_OUT * (N_PS * V_OUT) / (V_BULK_MIN + N_PS * V_OUT)) / (\n",
    "    V_DELTA * V_OUT * F_SW\n",
    ")\n",
    "print(\"最小输出电容%.2f uF\" % (C_OUT_MIN * 1e6))\n",
    "\n",
    "C_OUT = 500 * 1e-6\n",
    "if C_OUT < C_OUT_MIN:\n",
    "    raise Exception(\"输出电容过小\")\n",
    "elif C_OUT - C_OUT_MIN > 500e-6:\n",
    "    raise Exception(\"输出电容过大\")\n",
    "print(\"输出电容%.2f uF\" % (C_OUT * 1e6))"
   ]
  },
  {
   "cell_type": "markdown",
   "id": "d4349e66",
   "metadata": {},
   "source": [
    "### 5. 电流检测网络"
   ]
  },
  {
   "cell_type": "code",
   "execution_count": 786,
   "id": "c43631fb",
   "metadata": {
    "ExecuteTime": {
     "end_time": "2025-05-19T06:41:45.451616Z",
     "start_time": "2025-05-19T06:41:45.445472Z"
    }
   },
   "outputs": [
    {
     "name": "stdout",
     "output_type": "stream",
     "text": [
      "电流采样电阻R_CS：0.10 Ohm\n",
      "失调电压值V_OFFSET：0.70V\n",
      "滤波元件 RCSF：3000.00 Ohm\n",
      "分压电阻R_P：18439.02 Ohm\n"
     ]
    }
   ],
   "source": [
    "with open(\"RC_Data.json\", \"r\") as f:\n",
    "    data = json.load(f)\n",
    "    RCS_list = data[\"RCS\"]\n",
    "# print(\"RCS列表：\", RCS_list)\n",
    "\n",
    "for R_CS_0 in RCS_list:\n",
    "    if m.pow(I_PK_MOSFET, 2) * R_CS_0 < 2:\n",
    "        R_CS = R_CS_0\n",
    "        continue\n",
    "    else:\n",
    "        break\n",
    "R_CS = 0.1\n",
    "print(\"电流采样电阻R_CS：%.2f Ohm\" % R_CS)\n",
    "\n",
    "V_OFFSET = 1 - I_PK_MOSFET * R_CS\n",
    "print(\"失调电压值V_OFFSET：%.2fV\" % V_OFFSET)\n",
    "\n",
    "R_CSF = 3e3\n",
    "V_REF = 5\n",
    "R_P = 1 / (V_OFFSET / V_REF / R_CSF) - R_CSF\n",
    "\n",
    "print(\"滤波元件 RCSF：%.2f Ohm\" % R_CSF)\n",
    "print(\"分压电阻R_P：%.2f Ohm\" % R_P)"
   ]
  },
  {
   "cell_type": "markdown",
   "id": "7b72d283",
   "metadata": {},
   "source": [
    "### 6. 栅极驱动电阻\n",
    "\n",
    "RG 是电源开关 QSW 的栅极驱动电阻器。该电阻值的选择必须与 EMI 符合性测试和效率测试结合起来进行。对 RG 使用较大的电阻值会减慢 MOSFET 的导通和关断速度。开关速度越慢 EMI 会降低，但开关损耗也会增加。必须仔细权衡开关损耗和 EMI 性能。对于此设计，选择了 10Ω 电阻器用于栅极驱动电阻器。"
   ]
  },
  {
   "cell_type": "markdown",
   "id": "626df812",
   "metadata": {},
   "source": [
    "### 7. VREF电容器\n",
    "\n",
    "高精度 5V 基准电压具有几项重要的功能。基准电压在内部分压至 2.5V，并连接到误差放大器的同相输入端，以实现精确的输出电压调节。基准电压的其他作用包括为振荡器上限和下限等功能设置内部偏置电流和阈值。因此，必须使用陶瓷电容器 (CVREF) 对基准电压进行旁路，为此转换器选择了 1μF、16V 陶瓷电容器。该电容器在物理印刷电路板布局布线上的位置必须尽可能靠近各自的 VREF 和 GROUND 引脚。"
   ]
  },
  {
   "cell_type": "markdown",
   "id": "ea33e58e",
   "metadata": {},
   "source": [
    "### 8. RT/CT\n",
    "内部振荡器使用计时电容器 (CCT) 和计时电阻器 (RRT) 来对振荡器频率和最大占空比进行编程。可根据节 8.2.3 中的曲线对工作频率进行编程，其中一旦选择了计时电容器，即可找到计时电阻器。计时电容器最好具有平坦的温度系数，这是大多数 COG 或 NPO 型电容器的典型特性。"
   ]
  },
  {
   "cell_type": "code",
   "execution_count": 787,
   "id": "57d6d974",
   "metadata": {
    "ExecuteTime": {
     "end_time": "2025-05-19T06:41:45.563323Z",
     "start_time": "2025-05-19T06:41:45.556323Z"
    }
   },
   "outputs": [
    {
     "name": "stdout",
     "output_type": "stream",
     "text": [
      "计时电容器容量为：470.00 pF\n",
      "计时电阻器值为：36.00 kOhm\n",
      "时钟频率为：101.65 kHz\n"
     ]
    }
   ],
   "source": [
    "with open(\"RC_Data.json\", \"r\") as f:\n",
    "    data = json.load(f)\n",
    "    R0603_list = data[\"R0603\"]\n",
    "    C0603_list = data[\"C0603\"]\n",
    "\n",
    "# print(\"C0603:\", C0603_list)\n",
    "# print(\"R0603:\", R0603_list)\n",
    "\n",
    "F_OSC_TEMP = 200e3\n",
    "for C0603 in C0603_list:\n",
    "    for R0603 in R0603_list:\n",
    "        F_OSC = 1.72 / (C0603 * R0603)\n",
    "        if abs(F_OSC - F_SW) < abs(F_OSC_TEMP - F_SW):\n",
    "            F_OSC_TEMP = F_OSC\n",
    "            R_RT = R0603\n",
    "            C_CT = C0603\n",
    "\n",
    "F_OSC = 1.72 / (C_CT * R_RT)\n",
    "print(\"计时电容器容量为：%.2f pF\" % (C_CT * 1e12))\n",
    "print(\"计时电阻器值为：%.2f kOhm\" % (R_RT * 1e-3))\n",
    "print(\"时钟频率为：%.2f kHz\" % (F_OSC / 1e3))"
   ]
  },
  {
   "cell_type": "markdown",
   "id": "2f880b63",
   "metadata": {},
   "source": [
    "### 9. 启动电路\n",
    "\n",
    "在启动时，IC 通过高压电阻器 RSTART 直接从高压体获得功率。启动电阻器的选择是功率损耗和启动时间之间进行权衡。在最小输入电压下流过 RSTART 的电流必须高于 UVLO 条件下的 VCC 电流（最大值为 1mA）。为RSTART 选择了 100kΩ 的电阻，在低压线路条件下提供 1mA 的启动电流。启动电阻器在物理上由两个 50kΩ 电阻器串联组成，以满足高压要求和高压线路的额定功率。\n",
    "在 VCC 充电超过 UVLO 导通阈值后，UC2842 开始消耗全部工作电流。VCC 电容器需要提供足够的能量，以防止在启动期间电压下降到 UVLO 关断阈值以下，然后输出才能够达到调节电平。大容量电容可容纳更多能量，但会导致启动时间变慢。该设计中选择了 120μF 电容器，以提供足够的能量并保持启动时间大概 2 秒。"
   ]
  },
  {
   "cell_type": "markdown",
   "id": "3f346c1d",
   "metadata": {},
   "source": [
    "### 10. 电压反馈补偿"
   ]
  },
  {
   "cell_type": "markdown",
   "id": "53d191cd",
   "metadata": {},
   "source": [
    "#### 10.1 功率级点和零点"
   ]
  },
  {
   "cell_type": "code",
   "execution_count": 788,
   "id": "d61fef66",
   "metadata": {
    "ExecuteTime": {
     "end_time": "2025-05-19T06:41:45.720963Z",
     "start_time": "2025-05-19T06:41:45.714097Z"
    }
   },
   "outputs": [
    {
     "name": "stdout",
     "output_type": "stream",
     "text": [
      "220V时电路220V时电路 0.51  mH\n",
      "265V时电路 220V时电路0.61  mH\n",
      "85V时电路的临界电感 0.16  mH\n",
      "85V时电路工作在CCM模式\n",
      "220V时电路工作在CCM模式\n"
     ]
    }
   ],
   "source": [
    "L_P_Crit1 = R_OUT * m.pow(N_PS, 2) / (2 * F_SW) * m.pow(V_IN / (V_IN + V_OUT * N_PS), 2)\n",
    "L_P_Crit2 = (\n",
    "    R_OUT * m.pow(N_PS, 2) / (2 * F_SW) * m.pow(V_AC_MAX / (V_AC_MAX + V_OUT * N_PS), 2)\n",
    ")\n",
    "L_P_Crit3 = (\n",
    "    R_OUT * m.pow(N_PS, 2) / (2 * F_SW) * m.pow(V_AC_MIN / (V_AC_MIN + V_OUT * N_PS), 2)\n",
    ")\n",
    "print(\"220V时电路220V时电路 %.2f \"% (L_P_Crit1*1e3), \"mH\")\n",
    "print(\"265V时电路 220V时电路%.2f \"% (L_P_Crit2*1e3), \"mH\")\n",
    "print(\"85V时电路的临界电感 %.2f \"% (L_P_Crit3*1e3), \"mH\")\n",
    "\n",
    "if L_P > L_P_Crit3:\n",
    "    print(\"85V时电路工作在CCM模式\")\n",
    "if L_P > L_P_Crit1:\n",
    "    print(\"220V时电路工作在CCM模式\")\n",
    "if L_P > L_P_Crit2:\n",
    "    print(\"265V时电路工作在CCM模式\")\n",
    "\n",
    "if (L_P > L_P_Crit3) & (L_P > L_P_Crit1) & (L_P > L_P_Crit2):\n",
    "    print(\"电路在整个输入电压范围内工作在CCM模式\")"
   ]
  },
  {
   "cell_type": "code",
   "execution_count": 789,
   "id": "cb4cb288",
   "metadata": {
    "ExecuteTime": {
     "end_time": "2025-05-19T06:41:45.843093Z",
     "start_time": "2025-05-19T06:41:45.836662Z"
    }
   },
   "outputs": [
    {
     "name": "stdout",
     "output_type": "stream",
     "text": [
      "直流开环增益为：6.1645 dB\n",
      "\n",
      "ESR频率为：1591.55 Hz\n",
      "\n",
      "RHP频率为：9080.05 Hz\n"
     ]
    }
   ],
   "source": [
    "R_CS_0 = 1 / I_PK_MOSFET\n",
    "A_CS = 3  # 内部电流检测增益\n",
    "D = N_PS * V_OUT / (V_BULK_MIN + (N_PS * V_OUT))\n",
    "Tau_L = 2 * L_P * F_SW / (R_OUT * m.pow(N_PS, 2))\n",
    "M = V_OUT * N_PS / V_BULK_MIN\n",
    "G_0 = (\n",
    "    R_OUT * N_PS / (R_CS_0 * A_CS) * 1 / (m.pow(1 - D, 2) / Tau_L + (2 * M) + 1)\n",
    ")  # 直流开环增益\n",
    "print(\"直流开环增益为：%.4f\" % G_0, \"dB\")\n",
    "print(\"\")\n",
    "\n",
    "R_ESR = 0.8 / 4\n",
    "Omega_ESR_Z = 1 / (R_ESR * C_OUT)\n",
    "F_ESR_Z = Omega_ESR_Z / (2 * m.pi)\n",
    "print(\"ESR频率为：%.2f\" % F_ESR_Z, \"Hz\")\n",
    "print(\"\")\n",
    "\n",
    "Omega_RHP_Z = R_OUT * m.pow(1 - D, 2) * m.pow(N_PS, 2) / (L_P * D)\n",
    "F_RHP_Z = Omega_RHP_Z / (2 * m.pi)\n",
    "print(\"RHP频率为：%.2f\" % F_RHP_Z, \"Hz\")"
   ]
  },
  {
   "cell_type": "markdown",
   "id": "c0e3f868",
   "metadata": {},
   "source": [
    "功率级有一个主导极点 ωP1，它位于感兴趣的区域中，处在较低的频率 fP1 处，与占空比 D、输出负载和输出电容有关。还有一个双极点放在转换器开关频率的一半处。"
   ]
  },
  {
   "cell_type": "code",
   "execution_count": 790,
   "id": "46bc24a5",
   "metadata": {
    "ExecuteTime": {
     "end_time": "2025-05-19T06:41:45.936645Z",
     "start_time": "2025-05-19T06:41:45.932140Z"
    }
   },
   "outputs": [
    {
     "name": "stdout",
     "output_type": "stream",
     "text": [
      "F_P1: 119.71 Hz\n",
      "F_P2: 50000.00 Hz\n"
     ]
    }
   ],
   "source": [
    "Omega_P1 = (m.pow(1 - D, 3) / Tau_L + 1 + D) / (R_OUT * C_OUT)\n",
    "F_P1 = Omega_P1 / (2 * m.pi)\n",
    "Omega_P2 = m.pi * F_SW\n",
    "F_P2 = F_SW / 2\n",
    "print(\"F_P1: %.2f Hz\" % F_P1)\n",
    "print(\"F_P2: %.2f Hz\" % F_P2)"
   ]
  },
  {
   "cell_type": "markdown",
   "id": "432b74b9",
   "metadata": {},
   "source": [
    "#### 10.2 斜率补偿\n",
    "\n",
    "由理想的质量系数Q_P来计算M_ideal，再由电感器上升斜率S_n来计算补偿斜率 S_e"
   ]
  },
  {
   "cell_type": "code",
   "execution_count": 791,
   "id": "55217756",
   "metadata": {
    "ExecuteTime": {
     "end_time": "2025-05-19T06:41:46.060432Z",
     "start_time": "2025-05-19T06:41:46.054294Z"
    }
   },
   "outputs": [
    {
     "name": "stdout",
     "output_type": "stream",
     "text": [
      "斜坡补偿系数的理想值 M_ideal = 3.2983\n",
      "电感器上升斜率 S_n = 41.016 mV/us\n",
      "补偿斜率 S_e = 94.266 mV/us\n",
      "理想质量系数 Q_P_0 = 1.000\n"
     ]
    }
   ],
   "source": [
    "M_ideal = (1 / m.pi + 0.5) / (1 - D)\n",
    "M_C = M_ideal\n",
    "print(\"斜坡补偿系数的理想值 M_ideal = %.4f\" % M_ideal)\n",
    "S_n = V_BULK_MIN * R_CS_0 / L_P  # V/s  Ω\n",
    "print(\"电感器上升斜率 S_n = %.3f mV/us\" % (S_n * 1e-3))\n",
    "S_e = (M_C - 1) * S_n  # V/s\n",
    "print(\"补偿斜率 S_e = %.3f mV/us\" % (S_e * 1e-3))\n",
    "Q_P_0 = 1 / (m.pi * (M_C * (1 - D) - 0.5))\n",
    "print(\"理想质量系数 Q_P_0 = %.3f\" % Q_P_0)"
   ]
  },
  {
   "cell_type": "code",
   "execution_count": 792,
   "id": "7579cc8c",
   "metadata": {
    "ExecuteTime": {
     "end_time": "2025-05-19T06:41:46.230233Z",
     "start_time": "2025-05-19T06:41:46.225375Z"
    }
   },
   "outputs": [
    {
     "name": "stdout",
     "output_type": "stream",
     "text": [
      "226.09 mV/us\n"
     ]
    }
   ],
   "source": [
    "t_ON_min = D / F_SW\n",
    "V_OSC_Cpp = 1.7\n",
    "S_OSC = V_OSC_Cpp / t_ON_min\n",
    "print(\"%.2f mV/us\" % (S_OSC * 1e-6 * 1e3))"
   ]
  },
  {
   "cell_type": "code",
   "execution_count": 793,
   "id": "adf08a78",
   "metadata": {
    "ExecuteTime": {
     "end_time": "2025-05-19T06:41:46.391434Z",
     "start_time": "2025-05-19T06:41:46.385143Z"
    }
   },
   "outputs": [
    {
     "name": "stdout",
     "output_type": "stream",
     "text": [
      "R_RAMP = 18.00 kOhm\n",
      "R_CSF = 13.00 kOhm\n",
      "Q_P = 0.9897\n"
     ]
    }
   ],
   "source": [
    "with open(\"RC_Data.json\") as f:\n",
    "    data = json.load(f)\n",
    "    R0603_list = data[\"R0603\"]\n",
    "\n",
    "Q_P = 1.2\n",
    "for R0603_RAMP in R0603_list:\n",
    "    if R0603_RAMP < 10e3:\n",
    "        continue\n",
    "    for R0603_CSF in R0603_list:\n",
    "        S_e_Temp = S_OSC / (R0603_RAMP / R0603_CSF + 1)\n",
    "        M_C_Temp = S_e_Temp / S_n + 1\n",
    "        Q_P_Temp = 1 / (m.pi * (M_C_Temp * (1 - D) - 0.5))\n",
    "        if abs(Q_P - Q_P_0) > abs(Q_P_Temp - Q_P_0):\n",
    "            Q_P = Q_P_Temp\n",
    "            R_RAMP = R0603_RAMP\n",
    "            R_CSF = R0603_CSF\n",
    "\n",
    "print(\"R_RAMP = %.2f\" % (R_RAMP * 1e-3), \"kOhm\")\n",
    "print(\"R_CSF = %.2f\" % (R_CSF * 1e-3), \"kOhm\")\n",
    "print(\"Q_P = %.4f\" % Q_P)"
   ]
  },
  {
   "cell_type": "markdown",
   "id": "986e7de8",
   "metadata": {},
   "source": [
    "#### 10.3 开环增益"
   ]
  },
  {
   "cell_type": "code",
   "execution_count": 794,
   "id": "2f3bba48",
   "metadata": {
    "ExecuteTime": {
     "end_time": "2025-05-19T06:41:46.506463Z",
     "start_time": "2025-05-19T06:41:46.503269Z"
    }
   },
   "outputs": [],
   "source": [
    "s = ctrl.TransferFunction.s"
   ]
  },
  {
   "cell_type": "code",
   "execution_count": 795,
   "id": "2a277474",
   "metadata": {
    "ExecuteTime": {
     "end_time": "2025-05-19T06:41:47.197906Z",
     "start_time": "2025-05-19T06:41:46.605722Z"
    }
   },
   "outputs": [
    {
     "data": {
      "image/png": "[encoded data removed]",
      "text/plain": [
       "<Figure size 640x480 with 2 Axes>"
      ]
     },
     "metadata": {},
     "output_type": "display_data"
    }
   ],
   "source": [
    "H_OPEN = (\n",
    "    G_0\n",
    "    * ((1 + s / Omega_ESR_Z) * (1 - s / Omega_RHP_Z) / (1 + s / Omega_P1))\n",
    "    * (1 / (1 + s / (Omega_P2 * Q_P) + s * s / m.pow(Omega_P2, 2)))\n",
    ")\n",
    "\n",
    "freq_Hz = np.logspace(0, 5, 1000)\n",
    "omega = 2 * np.pi * freq_Hz\n",
    "\n",
    "plt.figure()\n",
    "ctrl.bode_plot(H_OPEN, omega=omega, dB=True, Hz=True, display_margins=True)\n",
    "plt.grid(True)\n",
    "plt.show()"
   ]
  },
  {
   "cell_type": "markdown",
   "id": "58294029",
   "metadata": {},
   "source": [
    "#### 10.4 补偿环路"
   ]
  },
  {
   "cell_type": "code",
   "execution_count": 796,
   "id": "6bfe3421",
   "metadata": {
    "ExecuteTime": {
     "end_time": "2025-05-19T06:41:47.219571Z",
     "start_time": "2025-05-19T06:41:47.215386Z"
    }
   },
   "outputs": [
    {
     "name": "stdout",
     "output_type": "stream",
     "text": [
      "CCM 反激式的带宽: 2270.01 Hz\n"
     ]
    }
   ],
   "source": [
    "F_BW = F_RHP_Z / 4\n",
    "print(\"CCM 反激式的带宽: %.2f Hz\" % F_BW)"
   ]
  },
  {
   "cell_type": "markdown",
   "id": "68920ac8",
   "metadata": {},
   "source": [
    "##### 10.4.1 光耦TL431"
   ]
  },
  {
   "cell_type": "code",
   "execution_count": 797,
   "id": "bbe94562",
   "metadata": {
    "ExecuteTime": {
     "end_time": "2025-05-19T06:41:47.317143Z",
     "start_time": "2025-05-19T06:41:47.311162Z"
    }
   },
   "outputs": [
    {
     "name": "stdout",
     "output_type": "stream",
     "text": [
      "分压器R_FBU: 21505.0\n",
      "分压器R_FBB: 2495.0\n",
      "分压器R_FBU实际值: 22000.0\n",
      "分压器R_FBB实际值: 2552.43\n"
     ]
    }
   ],
   "source": [
    "REF_TL431 = 2.495  #  TL431参考值\n",
    "I_FB_REF = 1e-3  #  分压器电流\n",
    "R_FBU = (V_OUT - REF_TL431) / I_FB_REF\n",
    "R_FBB = REF_TL431 / (V_OUT - REF_TL431) * R_FBU\n",
    "print(\"分压器R_FBU:\", R_FBU)\n",
    "print(\"分压器R_FBB:\", R_FBB)\n",
    "\n",
    "with open(\"RC_Data.json\", \"r\") as f:\n",
    "    data = json.load(f)\n",
    "    R0603_list = data[\"R0603\"]\n",
    "\n",
    "for R0603_FBU in R0603_list:\n",
    "    if ((V_OUT - REF_TL431) / 1e-3 > R0603_FBU) | (\n",
    "        (V_OUT - REF_TL431) / 0.5e-3 < R0603_FBU\n",
    "    ):\n",
    "        continue\n",
    "    else:\n",
    "        R_FBU = R0603_FBU\n",
    "        break\n",
    "\n",
    "R_FBB = REF_TL431 / (V_OUT - REF_TL431) * R_FBU\n",
    "\n",
    "print(\"分压器R_FBU实际值:\", R_FBU)\n",
    "print(\"分压器R_FBB实际值: %.2f\"% R_FBB)"
   ]
  },
  {
   "cell_type": "markdown",
   "id": "35797947",
   "metadata": {},
   "source": [
    "为了获得良好的相位裕度，需要一个补偿器零点 fCOMPz，并且必须将其放置在所需带宽的 1/10 处"
   ]
  },
  {
   "cell_type": "code",
   "execution_count": 798,
   "id": "4019486c",
   "metadata": {
    "ExecuteTime": {
     "end_time": "2025-05-19T06:41:47.420072Z",
     "start_time": "2025-05-19T06:41:47.415821Z"
    }
   },
   "outputs": [
    {
     "name": "stdout",
     "output_type": "stream",
     "text": [
      "F_COMP_Z = 227.00 Hz\n",
      "R_COMP_Z = 70.11 kOhm\n"
     ]
    }
   ],
   "source": [
    "C_COMP_Z = 0.01e-6\n",
    "F_COMP_Z = F_BW / 10\n",
    "Omega_COMP_Z = 2 * np.pi * F_COMP_Z\n",
    "R_COMP_Z = 1 / (Omega_COMP_Z * C_COMP_Z)\n",
    "print(\"F_COMP_Z = %.2f Hz\" % F_COMP_Z)\n",
    "print(\"R_COMP_Z = %.2f kOhm\" % (R_COMP_Z / 1e3))"
   ]
  },
  {
   "cell_type": "code",
   "execution_count": 799,
   "id": "efffe278",
   "metadata": {
    "ExecuteTime": {
     "end_time": "2025-05-19T06:41:47.513348Z",
     "start_time": "2025-05-19T06:41:47.508462Z"
    }
   },
   "outputs": [],
   "source": [
    "G_TL431 = (R_COMP_Z+1/(s*C_COMP_Z))*1/R_FBU"
   ]
  },
  {
   "cell_type": "code",
   "execution_count": 800,
   "id": "70c9910a",
   "metadata": {
    "ExecuteTime": {
     "end_time": "2025-05-19T06:41:47.605382Z",
     "start_time": "2025-05-19T06:41:47.600901Z"
    }
   },
   "outputs": [
    {
     "name": "stdout",
     "output_type": "stream",
     "text": [
      "R_COMP_P = 10000.0000 Ohm\n",
      "C_COMP_P = 10.0000 nF\n"
     ]
    }
   ],
   "source": [
    "R_COMP_P = 10e3\n",
    "C_COMP_P = 1/(Omega_ESR_Z*R_COMP_P)\n",
    "print(\"R_COMP_P = %.4f Ohm\" % R_COMP_P)\n",
    "print(\"C_COMP_P = %.4f nF\" % (C_COMP_P*1e9))"
   ]
  },
  {
   "cell_type": "code",
   "execution_count": 801,
   "id": "fc401bbc",
   "metadata": {
    "ExecuteTime": {
     "end_time": "2025-05-19T06:41:47.727793Z",
     "start_time": "2025-05-19T06:41:47.720571Z"
    }
   },
   "outputs": [
    {
     "name": "stdout",
     "output_type": "stream",
     "text": [
      "[[[2103.50056522]]]\n",
      "R_LED = 6200.00 Ohm\n"
     ]
    }
   ],
   "source": [
    "R_FBG = 5.1e3\n",
    "G_EA = (R_COMP_P / R_FBG) * (1 / (1 + s * C_COMP_P * R_COMP_P))\n",
    "CTR = 1\n",
    "R_OPTO = 1e3\n",
    "R_LED = 1.3e3\n",
    "# G_OPTO = CTR * R_OPTO / R_LED\n",
    "\n",
    "# omega = np.logspace(0, 6, 1000)\n",
    "\n",
    "response_H_OPEN = H_OPEN.frequency_response(F_BW*2*np.pi)\n",
    "response_G_EA = G_EA.frequency_response(F_BW*2*np.pi)\n",
    "response_G_TL431 = G_TL431.frequency_response(F_BW*2*np.pi)\n",
    "\n",
    "mag_H_OPEN = response_H_OPEN.magnitude\n",
    "mag_G_EA = response_G_EA.magnitude\n",
    "mag_G_TL431 = response_G_TL431.magnitude\n",
    "\n",
    "R_LED_0 = mag_H_OPEN*mag_G_EA*mag_G_TL431*CTR*R_OPTO\n",
    "print(R_LED_0)\n",
    "R_LED = 6.2e3\n",
    "print(\"R_LED = %.2f Ohm\" % R_LED)\n"
   ]
  },
  {
   "cell_type": "code",
   "execution_count": 802,
   "id": "63bb8c54",
   "metadata": {
    "ExecuteTime": {
     "end_time": "2025-05-19T06:41:48.664531Z",
     "start_time": "2025-05-19T06:41:47.810542Z"
    }
   },
   "outputs": [
    {
     "data": {
      "image/png": "[encoded data removed]",
      "text/plain": [
       "<Figure size 640x480 with 2 Axes>"
      ]
     },
     "metadata": {},
     "output_type": "display_data"
    }
   ],
   "source": [
    "G_OPTO = CTR * R_OPTO / R_LED\n",
    "\n",
    "G_CLOSED = (\n",
    "    H_OPEN\n",
    "    * (CTR * R_OPTO / R_LED)\n",
    "    * (R_COMP_P / R_FBG)\n",
    "    * (1 / (1 + s * C_COMP_P * R_COMP_P))\n",
    ") * ((R_COMP_P + (1 / (s * C_COMP_Z))) / R_FBU)\n",
    "\n",
    "freq_Hz = np.logspace(0, 5, 1000)\n",
    "omega = 2 * np.pi * freq_Hz\n",
    "\n",
    "plt.figure()\n",
    "ctrl.bode_plot(G_CLOSED, omega=omega, dB=True, Hz=True, display_margins=True)\n",
    "plt.grid(True)\n",
    "plt.show()"
   ]
  },
  {
   "cell_type": "markdown",
   "id": "191094ae",
   "metadata": {},
   "source": [
    "### 变压器绕组计算"
   ]
  },
  {
   "cell_type": "code",
   "execution_count": 805,
   "id": "e0a51102",
   "metadata": {},
   "outputs": [
    {
     "name": "stdout",
     "output_type": "stream",
     "text": [
      "趋肤深度 D_m = 0.4181 mm\n",
      "初级绕组利兹线类型： ['0.1*30', '0.1*35', '0.1*40', '0.1*50', '0.1*60', '0.1*70', '0.1*80', '0.1*90', '0.1*100', '0.1*120', '0.1*150', '0.1*160', '0.1*180', '0.1*200', '0.1*250', '0.1*300', '0.1*350', '0.1*400', '0.1*500', '0.25*7', '0.30*7']\n",
      "次级绕组利兹线类型： ['0.1*160', '0.1*180', '0.1*200', '0.1*250', '0.1*300', '0.1*350', '0.1*400', '0.1*500']\n"
     ]
    }
   ],
   "source": [
    "with open(\"BYDZ_Lizt.json\", \"r\") as f:\n",
    "    Lizt_data = json.load(f)\n",
    "\n",
    "D_m = 2 * 66.1e-3 / m.sqrt(F_SW)\n",
    "print(\"趋肤深度 D_m = %.4f mm\" % (D_m * 1e3))\n",
    "\n",
    "# print(type(Lizt_data[\"0.1*10\"][\"d\"]))\n",
    "I_RMS_DIODE = I_RMS_MOSFET * N_PS\n",
    "\n",
    "# J_p = I_PRMS / ((m.pi * pow(D_p, 2) / 4) * m.pi * P_p)\n",
    "\n",
    "Lizt_P_list = []\n",
    "Lizt_S_list = []\n",
    "\n",
    "for Lizt_Type in Lizt_data:\n",
    "    K_JP_Temp = I_RMS_MOSFET/((m.pi * pow(Lizt_data[Lizt_Type][\"d\"], 2) / 4) * m.pi * Lizt_data[Lizt_Type][\"N\"])\n",
    "    if(K_JP_Temp<K_JP):\n",
    "        Lizt_P_list.append(Lizt_Type)\n",
    "\n",
    "for Lizt_Type in Lizt_data:\n",
    "    K_JS_Temp = I_RMS_DIODE/((m.pi * pow(Lizt_data[Lizt_Type][\"d\"], 2) / 4) * m.pi * Lizt_data[Lizt_Type][\"N\"])\n",
    "    if(K_JS_Temp<K_JS):\n",
    "        Lizt_S_list.append(Lizt_Type)\n",
    "\n",
    "print(\"初级绕组利兹线类型：\", Lizt_P_list)\n",
    "# print(\"初级绕组利兹线外径：\", Lizt_data[Lizt_P][\"D\"], \"mm\")\n",
    "print(\"次级绕组利兹线类型：\", Lizt_S_list)\n",
    "# print(\"次级绕组利兹线外径：\", Lizt_data[Lizt_S][\"D\"], \"mm\")"
   ]
  },
  {
   "cell_type": "markdown",
   "id": "a6f64bcc",
   "metadata": {},
   "source": [
    "### 12. RCD电路"
   ]
  },
  {
   "cell_type": "code",
   "execution_count": 804,
   "id": "7dfaf972",
   "metadata": {
    "ExecuteTime": {
     "end_time": "2025-05-19T06:41:48.685028Z",
     "start_time": "2025-05-19T06:41:48.682027Z"
    }
   },
   "outputs": [
    {
     "name": "stdout",
     "output_type": "stream",
     "text": [
      "V_clamp = 486.09 V\n",
      "C_clamp = 121.47 pF\n",
      "R_clamp = 778.19 Ohm\n"
     ]
    }
   ],
   "source": [
    "V_MOS_MAX = V_DS_Rated*0.7 # 最大MOSfet电压\n",
    "V_clamp  = V_MOS_MAX - V_BULK_MIN\n",
    "L_K = 2.53*1e-6\n",
    "print(f\"V_clamp = {V_clamp:.2f} V\")\n",
    "C_clamp = L_K*m.pow(I_PK_MOSFET, 2)/(m.pow(V_clamp, 2)-m.pow(V_REFLECTED, 2))\n",
    "print(f\"C_clamp = {C_clamp*1e12:.2f} pF\")\n",
    "R_clamp = m.pow(V_clamp,2)/(0.5*L_K*m.pow(I_PK_MOSFET,2)*F_SW*(V_clamp-V_REFLECTED))\n",
    "print(f\"R_clamp = {R_clamp:.2f} Ohm\")"
   ]
  }
 ],
 "metadata": {
  "kernelspec": {
   "display_name": "Python 3 (ipykernel)",
   "language": "python",
   "name": "python3"
  },
  "language_info": {
   "codemirror_mode": {
    "name": "ipython",
    "version": 3
   },
   "file_extension": ".py",
   "mimetype": "text/x-python",
   "name": "python",
   "nbconvert_exporter": "python",
   "pygments_lexer": "ipython3",
   "version": "3.12.9"
  }
 },
 "nbformat": 4,
 "nbformat_minor": 5
}
